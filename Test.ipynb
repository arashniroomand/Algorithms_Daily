{
 "cells": [
  {
   "cell_type": "markdown",
   "id": "5c8f276b",
   "metadata": {},
   "source": [
    "Sample Data"
   ]
  },
  {
   "cell_type": "code",
   "execution_count": 5,
   "id": "a5927a9a",
   "metadata": {},
   "outputs": [],
   "source": [
    "arr= [10, 50, 30, 70, 80, 20, 90, 40]\n",
    "target = 30"
   ]
  },
  {
   "cell_type": "markdown",
   "id": "6355727d",
   "metadata": {},
   "source": [
    "Linear Search\n"
   ]
  },
  {
   "cell_type": "code",
   "execution_count": 8,
   "id": "9d95141f",
   "metadata": {},
   "outputs": [
    {
     "name": "stdout",
     "output_type": "stream",
     "text": [
      "The target found after 3 step \n"
     ]
    }
   ],
   "source": [
    "def linear_search(arr, index):\n",
    "    for num in arr:\n",
    "        if num == target:\n",
    "            return 1, index\n",
    "        index += 1\n",
    "\n",
    "        \n",
    "        \n",
    "\n",
    "\n",
    "result, step = linear_search(arr,index = 1)\n",
    "if result == 1:\n",
    "    print(f\"The target found after {step} step \")"
   ]
  },
  {
   "cell_type": "code",
   "execution_count": 18,
   "id": "265e7ca4",
   "metadata": {},
   "outputs": [
    {
     "data": {
      "text/plain": [
       "[10, 50]"
      ]
     },
     "execution_count": 18,
     "metadata": {},
     "output_type": "execute_result"
    }
   ],
   "source": [
    "arr[:arr.index(30)]\n"
   ]
  },
  {
   "cell_type": "markdown",
   "id": "40edf8a1",
   "metadata": {},
   "source": [
    "Binary Search"
   ]
  },
  {
   "cell_type": "code",
   "execution_count": 7,
   "id": "bee44dea",
   "metadata": {},
   "outputs": [
    {
     "name": "stdout",
     "output_type": "stream",
     "text": [
      "Checking 60 at step 1\n",
      "Checking 90 at step 2\n",
      "Checking 80 at step 3\n",
      "Checking 70 at step 4\n",
      "Found it after 4 step(s). The number was 70\n",
      "Found it!\n"
     ]
    }
   ],
   "source": [
    "def binary_search(arr, target, index):\n",
    "    if len(arr) == 0:\n",
    "        print(\"Not found\")\n",
    "        return False\n",
    "\n",
    "    num_elements = len(arr)\n",
    "    index += 1\n",
    "    mid_num = num_elements // 2\n",
    "    pointer = arr[mid_num]\n",
    "\n",
    "    print(f\"Checking {pointer} at step {index}\")\n",
    "\n",
    "    if pointer == target:\n",
    "        print(f\"Found it after {index} step(s). The number was {target}\")\n",
    "        return True\n",
    "    elif pointer > target:\n",
    "        return binary_search(arr[:mid_num], target, index)\n",
    "    else:\n",
    "        return binary_search(arr[mid_num+1:], target, index)\n",
    "\n",
    "\n",
    "# Example usage\n",
    "arr = [10, 20, 30, 40, 50, 60, 70, 80, 90, 100]\n",
    "target = 70\n",
    "result = binary_search(arr, target, index=0)\n",
    "\n",
    "if result:\n",
    "    print(\"Found it!\")\n",
    "else:\n",
    "    print(\"Target not found.\")\n"
   ]
  },
  {
   "cell_type": "code",
   "execution_count": 14,
   "id": "1be4782b",
   "metadata": {},
   "outputs": [
    {
     "name": "stdout",
     "output_type": "stream",
     "text": [
      "[30, 80, 10, 100, 90, 70, 60, 40, 50, 20]\n"
     ]
    }
   ],
   "source": [
    "import random\n",
    "\n",
    "\n",
    "arr = [10, 20, 30, 40, 50, 60, 70, 80, 90, 100]\n",
    "\n",
    "random.shuffle(arr)\n",
    "print(arr)"
   ]
  },
  {
   "cell_type": "code",
   "execution_count": 11,
   "id": "4bccb8c2",
   "metadata": {},
   "outputs": [
    {
     "data": {
      "text/plain": [
       "7"
      ]
     },
     "execution_count": 11,
     "metadata": {},
     "output_type": "execute_result"
    }
   ],
   "source": [
    "arr.index(30)"
   ]
  },
  {
   "cell_type": "markdown",
   "id": "e434dd41",
   "metadata": {},
   "source": [
    "Bubble Sort"
   ]
  },
  {
   "cell_type": "code",
   "execution_count": 15,
   "id": "e096eb06",
   "metadata": {},
   "outputs": [
    {
     "name": "stdout",
     "output_type": "stream",
     "text": [
      "Bubble Sort with explanation:\n",
      "30 <= 80 so no swap needed.\n",
      "80 > 10 so we swap.\n",
      "[30, 10, 80, 100, 90, 70, 60, 40, 50, 20]\n",
      "80 <= 100 so no swap needed.\n",
      "100 > 90 so we swap.\n",
      "[30, 10, 80, 90, 100, 70, 60, 40, 50, 20]\n",
      "100 > 70 so we swap.\n",
      "[30, 10, 80, 90, 70, 100, 60, 40, 50, 20]\n",
      "100 > 60 so we swap.\n",
      "[30, 10, 80, 90, 70, 60, 100, 40, 50, 20]\n",
      "100 > 40 so we swap.\n",
      "[30, 10, 80, 90, 70, 60, 40, 100, 50, 20]\n",
      "100 > 50 so we swap.\n",
      "[30, 10, 80, 90, 70, 60, 40, 50, 100, 20]\n",
      "100 > 20 so we swap.\n",
      "[30, 10, 80, 90, 70, 60, 40, 50, 20, 100]\n",
      "End of pass 1\n",
      "------------------\n",
      "30 > 10 so we swap.\n",
      "[10, 30, 80, 90, 70, 60, 40, 50, 20, 100]\n",
      "30 <= 80 so no swap needed.\n",
      "80 <= 90 so no swap needed.\n",
      "90 > 70 so we swap.\n",
      "[10, 30, 80, 70, 90, 60, 40, 50, 20, 100]\n",
      "90 > 60 so we swap.\n",
      "[10, 30, 80, 70, 60, 90, 40, 50, 20, 100]\n",
      "90 > 40 so we swap.\n",
      "[10, 30, 80, 70, 60, 40, 90, 50, 20, 100]\n",
      "90 > 50 so we swap.\n",
      "[10, 30, 80, 70, 60, 40, 50, 90, 20, 100]\n",
      "90 > 20 so we swap.\n",
      "[10, 30, 80, 70, 60, 40, 50, 20, 90, 100]\n",
      "End of pass 2\n",
      "------------------\n",
      "10 <= 30 so no swap needed.\n",
      "30 <= 80 so no swap needed.\n",
      "80 > 70 so we swap.\n",
      "[10, 30, 70, 80, 60, 40, 50, 20, 90, 100]\n",
      "80 > 60 so we swap.\n",
      "[10, 30, 70, 60, 80, 40, 50, 20, 90, 100]\n",
      "80 > 40 so we swap.\n",
      "[10, 30, 70, 60, 40, 80, 50, 20, 90, 100]\n",
      "80 > 50 so we swap.\n",
      "[10, 30, 70, 60, 40, 50, 80, 20, 90, 100]\n",
      "80 > 20 so we swap.\n",
      "[10, 30, 70, 60, 40, 50, 20, 80, 90, 100]\n",
      "End of pass 3\n",
      "------------------\n",
      "10 <= 30 so no swap needed.\n",
      "30 <= 70 so no swap needed.\n",
      "70 > 60 so we swap.\n",
      "[10, 30, 60, 70, 40, 50, 20, 80, 90, 100]\n",
      "70 > 40 so we swap.\n",
      "[10, 30, 60, 40, 70, 50, 20, 80, 90, 100]\n",
      "70 > 50 so we swap.\n",
      "[10, 30, 60, 40, 50, 70, 20, 80, 90, 100]\n",
      "70 > 20 so we swap.\n",
      "[10, 30, 60, 40, 50, 20, 70, 80, 90, 100]\n",
      "End of pass 4\n",
      "------------------\n",
      "10 <= 30 so no swap needed.\n",
      "30 <= 60 so no swap needed.\n",
      "60 > 40 so we swap.\n",
      "[10, 30, 40, 60, 50, 20, 70, 80, 90, 100]\n",
      "60 > 50 so we swap.\n",
      "[10, 30, 40, 50, 60, 20, 70, 80, 90, 100]\n",
      "60 > 20 so we swap.\n",
      "[10, 30, 40, 50, 20, 60, 70, 80, 90, 100]\n",
      "End of pass 5\n",
      "------------------\n",
      "10 <= 30 so no swap needed.\n",
      "30 <= 40 so no swap needed.\n",
      "40 <= 50 so no swap needed.\n",
      "50 > 20 so we swap.\n",
      "[10, 30, 40, 20, 50, 60, 70, 80, 90, 100]\n",
      "End of pass 6\n",
      "------------------\n",
      "10 <= 30 so no swap needed.\n",
      "30 <= 40 so no swap needed.\n",
      "40 > 20 so we swap.\n",
      "[10, 30, 20, 40, 50, 60, 70, 80, 90, 100]\n",
      "End of pass 7\n",
      "------------------\n",
      "10 <= 30 so no swap needed.\n",
      "30 > 20 so we swap.\n",
      "[10, 20, 30, 40, 50, 60, 70, 80, 90, 100]\n",
      "End of pass 8\n",
      "------------------\n",
      "10 <= 20 so no swap needed.\n",
      "End of pass 9\n",
      "------------------\n",
      "No swaps done in this pass. List is sorted.\n",
      "Sorted list: [10, 20, 30, 40, 50, 60, 70, 80, 90, 100]\n"
     ]
    }
   ],
   "source": [
    "def bubble_sort(arr):\n",
    "    n = len(arr)\n",
    "    for i in range(n):\n",
    "        swapped = False\n",
    "        for j in range(0, n - i - 1):\n",
    "            if arr[j] > arr[j + 1]:\n",
    "                print(f\"{arr[j]} > {arr[j+1]} so we swap.\")\n",
    "                arr[j], arr[j + 1] = arr[j + 1], arr[j]\n",
    "                swapped = True\n",
    "                print(arr)\n",
    "            else:\n",
    "                print(f\"{arr[j]} <= {arr[j+1]} so no swap needed.\")\n",
    "        print(\"End of pass\", i + 1)\n",
    "        print(\"------------------\")\n",
    "        if not swapped:\n",
    "            print(\"No swaps done in this pass. List is sorted.\")\n",
    "            break\n",
    "    return arr\n",
    "\n",
    "print(\"Bubble Sort with explanation:\")\n",
    "sorted_arr = bubble_sort(arr)\n",
    "print(\"Sorted list:\", sorted_arr)\n"
   ]
  },
  {
   "cell_type": "code",
   "execution_count": 8,
   "id": "905ba890",
   "metadata": {},
   "outputs": [
    {
     "name": "stdout",
     "output_type": "stream",
     "text": [
      "0\n",
      "1\n",
      "2\n",
      "3\n",
      "4\n",
      "5\n",
      "6\n",
      "7\n",
      "8\n",
      "9\n"
     ]
    }
   ],
   "source": [
    "for i in range(len(arr)):\n",
    "    print(i)"
   ]
  },
  {
   "cell_type": "markdown",
   "id": "cc6a42ea",
   "metadata": {},
   "source": [
    "Selection Sort"
   ]
  },
  {
   "cell_type": "code",
   "execution_count": 1,
   "id": "abbc4f72",
   "metadata": {},
   "outputs": [],
   "source": [
    "arr = [30, 80, 10, 100, 90, 70, 60, 40, 50, 20]\n"
   ]
  },
  {
   "cell_type": "markdown",
   "id": "b247369c",
   "metadata": {},
   "source": [
    "Score 3/5"
   ]
  },
  {
   "cell_type": "code",
   "execution_count": 2,
   "id": "d4251d86",
   "metadata": {},
   "outputs": [
    {
     "name": "stdout",
     "output_type": "stream",
     "text": [
      "Checking 30\n",
      "----------------------\n",
      "Checking 80\n",
      "----------------------\n",
      "Checking 10\n",
      "----------------------\n",
      "10 is lower than 30\n",
      "The new min is 10\n",
      "Checking 100\n",
      "----------------------\n",
      "Checking 90\n",
      "----------------------\n",
      "Checking 70\n",
      "----------------------\n",
      "Checking 60\n",
      "----------------------\n",
      "Checking 40\n",
      "----------------------\n",
      "Checking 50\n",
      "----------------------\n",
      "Checking 20\n",
      "----------------------\n",
      "We are removing 10 and add it to our final list!\n",
      "[30, 80, 100, 90, 70, 60, 40, 50, 20]\n",
      "----------------\n",
      "[10]\n",
      "Checking 30\n",
      "----------------------\n",
      "Checking 80\n",
      "----------------------\n",
      "Checking 100\n",
      "----------------------\n",
      "Checking 90\n",
      "----------------------\n",
      "Checking 70\n",
      "----------------------\n",
      "Checking 60\n",
      "----------------------\n",
      "Checking 40\n",
      "----------------------\n",
      "Checking 50\n",
      "----------------------\n",
      "Checking 20\n",
      "----------------------\n",
      "20 is lower than 30\n",
      "The new min is 20\n",
      "We are removing 20 and add it to our final list!\n",
      "[30, 80, 100, 90, 70, 60, 40, 50]\n",
      "----------------\n",
      "[10, 20]\n",
      "Checking 30\n",
      "----------------------\n",
      "Checking 80\n",
      "----------------------\n",
      "Checking 100\n",
      "----------------------\n",
      "Checking 90\n",
      "----------------------\n",
      "Checking 70\n",
      "----------------------\n",
      "Checking 60\n",
      "----------------------\n",
      "Checking 40\n",
      "----------------------\n",
      "Checking 50\n",
      "----------------------\n",
      "We are removing 30 and add it to our final list!\n",
      "[80, 100, 90, 70, 60, 40, 50]\n",
      "----------------\n",
      "[10, 20, 30]\n",
      "Checking 80\n",
      "----------------------\n",
      "Checking 100\n",
      "----------------------\n",
      "Checking 90\n",
      "----------------------\n",
      "Checking 70\n",
      "----------------------\n",
      "70 is lower than 80\n",
      "The new min is 70\n",
      "Checking 60\n",
      "----------------------\n",
      "60 is lower than 70\n",
      "The new min is 60\n",
      "Checking 40\n",
      "----------------------\n",
      "40 is lower than 60\n",
      "The new min is 40\n",
      "Checking 50\n",
      "----------------------\n",
      "We are removing 40 and add it to our final list!\n",
      "[80, 100, 90, 70, 60, 50]\n",
      "----------------\n",
      "[10, 20, 30, 40]\n",
      "Checking 80\n",
      "----------------------\n",
      "Checking 100\n",
      "----------------------\n",
      "Checking 90\n",
      "----------------------\n",
      "Checking 70\n",
      "----------------------\n",
      "70 is lower than 80\n",
      "The new min is 70\n",
      "Checking 60\n",
      "----------------------\n",
      "60 is lower than 70\n",
      "The new min is 60\n",
      "Checking 50\n",
      "----------------------\n",
      "50 is lower than 60\n",
      "The new min is 50\n",
      "We are removing 50 and add it to our final list!\n",
      "[80, 100, 90, 70, 60]\n",
      "----------------\n",
      "[10, 20, 30, 40, 50]\n",
      "Checking 80\n",
      "----------------------\n",
      "Checking 100\n",
      "----------------------\n",
      "Checking 90\n",
      "----------------------\n",
      "Checking 70\n",
      "----------------------\n",
      "70 is lower than 80\n",
      "The new min is 70\n",
      "Checking 60\n",
      "----------------------\n",
      "60 is lower than 70\n",
      "The new min is 60\n",
      "We are removing 60 and add it to our final list!\n",
      "[80, 100, 90, 70]\n",
      "----------------\n",
      "[10, 20, 30, 40, 50, 60]\n",
      "Checking 80\n",
      "----------------------\n",
      "Checking 100\n",
      "----------------------\n",
      "Checking 90\n",
      "----------------------\n",
      "Checking 70\n",
      "----------------------\n",
      "70 is lower than 80\n",
      "The new min is 70\n",
      "We are removing 70 and add it to our final list!\n",
      "[80, 100, 90]\n",
      "----------------\n",
      "[10, 20, 30, 40, 50, 60, 70]\n",
      "Checking 80\n",
      "----------------------\n",
      "Checking 100\n",
      "----------------------\n",
      "Checking 90\n",
      "----------------------\n",
      "We are removing 80 and add it to our final list!\n",
      "[100, 90]\n",
      "----------------\n",
      "[10, 20, 30, 40, 50, 60, 70, 80]\n",
      "Checking 100\n",
      "----------------------\n",
      "Checking 90\n",
      "----------------------\n",
      "90 is lower than 100\n",
      "The new min is 90\n",
      "We are removing 90 and add it to our final list!\n",
      "[100]\n",
      "----------------\n",
      "[10, 20, 30, 40, 50, 60, 70, 80, 90]\n",
      "Checking 100\n",
      "----------------------\n",
      "We are removing 100 and add it to our final list!\n",
      "[]\n",
      "----------------\n",
      "[10, 20, 30, 40, 50, 60, 70, 80, 90, 100]\n"
     ]
    }
   ],
   "source": [
    "def select_sort(arr, final_list):\n",
    "    \n",
    "    if arr == []:\n",
    "        return \n",
    "        \n",
    "    min = arr[0]\n",
    "    for i in range(len(arr)):\n",
    "        print(f\"Checking {arr[i]}\")\n",
    "        print(\"----------------------\")\n",
    "        if arr[i] < min:\n",
    "            print(f\"{arr[i]} is lower than {min}\")\n",
    "            print(f\"The new min is {arr[i]}\")\n",
    "            min = arr[i]\n",
    "    print(f\"We are removing {min} and add it to our final list!\")\n",
    "    arr.pop(arr.index(min))\n",
    "    print(arr)\n",
    "    final_list.append(min)\n",
    "    print('----------------')\n",
    "    print(final_list)\n",
    "    return select_sort(arr, final_list)\n",
    "    \n",
    "final_list = []\n",
    "\n",
    "\n",
    "select_sort(arr, final_list)"
   ]
  },
  {
   "cell_type": "code",
   "execution_count": 4,
   "id": "03817382",
   "metadata": {},
   "outputs": [],
   "source": [
    "def selection_sort(arr):\n",
    "    n = len(arr)\n",
    "    for i in range(n):\n",
    "        min_index = i\n",
    "        for j in range(i + 1, n):\n",
    "            if arr[j] < arr[min_index]:\n",
    "                min_index = j\n",
    "        # Swap the found minimum with the current index\n",
    "        arr[i], arr[min_index] = arr[min_index], arr[i]\n",
    "    return arr\n"
   ]
  },
  {
   "cell_type": "code",
   "execution_count": 5,
   "id": "851c07f3",
   "metadata": {},
   "outputs": [
    {
     "name": "stdout",
     "output_type": "stream",
     "text": [
      "Sorted array: [11, 12, 22, 25, 64]\n"
     ]
    }
   ],
   "source": [
    "arr = [64, 25, 12, 22, 11]\n",
    "sorted_arr = selection_sort(arr)\n",
    "print(\"Sorted array:\", sorted_arr)\n"
   ]
  },
  {
   "cell_type": "markdown",
   "id": "46e0e3ba",
   "metadata": {},
   "source": [
    "Insertion Sort"
   ]
  },
  {
   "cell_type": "code",
   "execution_count": 12,
   "id": "19e0854f",
   "metadata": {},
   "outputs": [
    {
     "name": "stdout",
     "output_type": "stream",
     "text": [
      "[64, 64, 12, 22, 11]\n",
      "[25, 64, 64, 22, 11]\n",
      "[25, 25, 64, 22, 11]\n",
      "[12, 25, 64, 64, 11]\n",
      "[12, 25, 25, 64, 11]\n",
      "[12, 22, 25, 64, 64]\n",
      "[12, 22, 25, 25, 64]\n",
      "[12, 22, 22, 25, 64]\n",
      "[12, 12, 22, 25, 64]\n"
     ]
    },
    {
     "data": {
      "text/plain": [
       "[11, 12, 22, 25, 64]"
      ]
     },
     "execution_count": 12,
     "metadata": {},
     "output_type": "execute_result"
    }
   ],
   "source": [
    "def insertion_sort(arr):\n",
    "    n = len(arr)\n",
    "    for i in range(1, n):\n",
    "        key = arr[i]\n",
    "        j = i - 1\n",
    "\n",
    "        # Shift larger elements rightward\n",
    "        while j >= 0 and arr[j] > key:\n",
    "            arr[j + 1] = arr[j]\n",
    "            print(arr)\n",
    "            j -= 1\n",
    "\n",
    "        # Place key into its correct spot\n",
    "        arr[j + 1] = key\n",
    "\n",
    "    return arr\n",
    "\n",
    "\n",
    "arr = [64, 25, 12, 22, 11]\n",
    "insertion_sort(arr)"
   ]
  },
  {
   "cell_type": "code",
   "execution_count": null,
   "id": "aab50e56",
   "metadata": {},
   "outputs": [],
   "source": []
  }
 ],
 "metadata": {
  "kernelspec": {
   "display_name": "base",
   "language": "python",
   "name": "python3"
  },
  "language_info": {
   "codemirror_mode": {
    "name": "ipython",
    "version": 3
   },
   "file_extension": ".py",
   "mimetype": "text/x-python",
   "name": "python",
   "nbconvert_exporter": "python",
   "pygments_lexer": "ipython3",
   "version": "3.11.3"
  }
 },
 "nbformat": 4,
 "nbformat_minor": 5
}
