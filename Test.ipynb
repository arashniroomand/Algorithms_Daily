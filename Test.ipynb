{
 "cells": [
  {
   "cell_type": "code",
   "execution_count": 5,
   "id": "a5927a9a",
   "metadata": {},
   "outputs": [],
   "source": [
    "arr= [10, 50, 30, 70, 80, 20, 90, 40]\n",
    "target = 30"
   ]
  },
  {
   "cell_type": "code",
   "execution_count": 8,
   "id": "9d95141f",
   "metadata": {},
   "outputs": [
    {
     "name": "stdout",
     "output_type": "stream",
     "text": [
      "The target found after 3 step \n"
     ]
    }
   ],
   "source": [
    "def linear_search(arr, index):\n",
    "    for num in arr:\n",
    "        if num == target:\n",
    "            return 1, index\n",
    "        index += 1\n",
    "\n",
    "        \n",
    "        \n",
    "\n",
    "\n",
    "result, step = linear_search(arr,index = 1)\n",
    "if result == 1:\n",
    "    print(f\"The target found after {step} step \")"
   ]
  },
  {
   "cell_type": "code",
   "execution_count": 18,
   "id": "265e7ca4",
   "metadata": {},
   "outputs": [
    {
     "data": {
      "text/plain": [
       "[10, 50]"
      ]
     },
     "execution_count": 18,
     "metadata": {},
     "output_type": "execute_result"
    }
   ],
   "source": [
    "arr[:arr.index(30)]\n"
   ]
  },
  {
   "cell_type": "code",
   "execution_count": null,
   "id": "bee44dea",
   "metadata": {},
   "outputs": [
    {
     "ename": "SyntaxError",
     "evalue": "incomplete input (3183796911.py, line 21)",
     "output_type": "error",
     "traceback": [
      "\u001b[1;36m  Cell \u001b[1;32mIn[20], line 21\u001b[1;36m\u001b[0m\n\u001b[1;33m    if result ==1:\u001b[0m\n\u001b[1;37m                  ^\u001b[0m\n\u001b[1;31mSyntaxError\u001b[0m\u001b[1;31m:\u001b[0m incomplete input\n"
     ]
    }
   ],
   "source": [
    "def binary_search(arr, target):\n",
    "    num_elements = len(arr)\n",
    "    mid_num = num_elements // 2\n",
    "    if arr[mid_num] == target:\n",
    "        return 1\n",
    "    elif arr[mid_num] > target:\n",
    "        arr_temp = arr[:arr.index(target) + 1]\n",
    "        binary_search(arr_temp, target)\n",
    "    else:\n",
    "        arr_temp = arr[arr.index(target):]\n",
    "        binary_search(arr_temp, target)\n",
    "        \n",
    "\n",
    "\n",
    "\n",
    "    \n",
    "arr= [10, 50, 30, 70, 80, 20, 90, 40]\n",
    "target = 30\n",
    "    \n",
    "result = binary_search(arr,target)\n",
    "if result ==1:\n",
    "    print(\"Found it\")"
   ]
  },
  {
   "cell_type": "code",
   "execution_count": null,
   "id": "e096eb06",
   "metadata": {},
   "outputs": [],
   "source": []
  }
 ],
 "metadata": {
  "kernelspec": {
   "display_name": "base",
   "language": "python",
   "name": "python3"
  },
  "language_info": {
   "codemirror_mode": {
    "name": "ipython",
    "version": 3
   },
   "file_extension": ".py",
   "mimetype": "text/x-python",
   "name": "python",
   "nbconvert_exporter": "python",
   "pygments_lexer": "ipython3",
   "version": "3.11.3"
  }
 },
 "nbformat": 4,
 "nbformat_minor": 5
}
